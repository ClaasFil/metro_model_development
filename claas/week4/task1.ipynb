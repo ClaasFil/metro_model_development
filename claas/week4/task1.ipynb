{
 "cells": [
  {
   "cell_type": "code",
   "execution_count": 1,
   "metadata": {},
   "outputs": [],
   "source": [
    "import numpy as np\n",
    "import os"
   ]
  },
  {
   "cell_type": "code",
   "execution_count": 3,
   "metadata": {},
   "outputs": [],
   "source": [
    "def read_temperature_data(file_name='task1_res.txt'):\n",
    "    \"\"\"\n",
    "    Read temperature data from a file where each block of data is preceded by its dimensions.\n",
    "    Each block represents a temperature matrix.\n",
    "\n",
    "    Parameters:\n",
    "    file_name (str): The name of the file to read the temperature data from. Default is 'task3_res.txt'.\n",
    "\n",
    "    Returns:\n",
    "    list of numpy.ndarray: A list containing each time step's temperature matrix.\n",
    "    \"\"\"\n",
    "    file_path = os.path.join(os.getcwd(), file_name)\n",
    "\n",
    "    # Initialize a list to store each time step's temperature matrix\n",
    "    temperature_matrices = []\n",
    "\n",
    "    with open(file_path, 'r') as file:\n",
    "        lines = file.readlines()\n",
    "        \n",
    "        # Initialize counters and control variables\n",
    "        i = 0\n",
    "        while i < len(lines):\n",
    "            line = lines[i].strip()\n",
    "            # Read and parse the matrix dimensions from the current line\n",
    "            if 'nx' in line:\n",
    "                # Extracting nx and incrementing i to go to the next line\n",
    "                nx = int(lines[i].split()[-1])\n",
    "                i += 1\n",
    "            if 'ny' in line:\n",
    "                # Extracting ny and incrementing i to go to the next line\n",
    "                ny = int(lines[i].split()[-1])\n",
    "                i += 1\n",
    "                # Read the next n lines as the temperature matrix\n",
    "                matrix = []\n",
    "                for _ in range(n):\n",
    "                    row = [float(value) for value in lines[i].split()]\n",
    "                    matrix.append(row)\n",
    "                    i += 1\n",
    "\n",
    "                # Convert the list to a numpy array and store in the list of matrices\n",
    "                temperature_matrices.append(np.array(matrix))\n",
    "            else:\n",
    "                i += 1\n",
    "\n",
    "    return temperature_matrices"
   ]
  },
  {
   "cell_type": "code",
   "execution_count": 5,
   "metadata": {},
   "outputs": [
    {
     "ename": "ValueError",
     "evalue": "invalid literal for int() with base 10: 'n'",
     "output_type": "error",
     "traceback": [
      "\u001b[0;31m---------------------------------------------------------------------------\u001b[0m",
      "\u001b[0;31mValueError\u001b[0m                                Traceback (most recent call last)",
      "Cell \u001b[0;32mIn[5], line 2\u001b[0m\n\u001b[1;32m      1\u001b[0m \u001b[38;5;66;03m# Read Data\u001b[39;00m\n\u001b[0;32m----> 2\u001b[0m T \u001b[38;5;241m=\u001b[39m \u001b[43mread_temperature_data\u001b[49m\u001b[43m(\u001b[49m\u001b[43m)\u001b[49m\n\u001b[1;32m      4\u001b[0m T\n",
      "Cell \u001b[0;32mIn[3], line 26\u001b[0m, in \u001b[0;36mread_temperature_data\u001b[0;34m(file_name)\u001b[0m\n\u001b[1;32m     24\u001b[0m \u001b[38;5;28;01mif\u001b[39;00m lines[i]\u001b[38;5;241m.\u001b[39mstrip()\u001b[38;5;241m.\u001b[39mstartswith(\u001b[38;5;124m'\u001b[39m\u001b[38;5;124m(\u001b[39m\u001b[38;5;124m'\u001b[39m):\n\u001b[1;32m     25\u001b[0m     dims \u001b[38;5;241m=\u001b[39m lines[i]\u001b[38;5;241m.\u001b[39mstrip()\u001b[38;5;241m.\u001b[39mstrip(\u001b[38;5;124m'\u001b[39m\u001b[38;5;124m()\u001b[39m\u001b[38;5;124m'\u001b[39m)\u001b[38;5;241m.\u001b[39msplit(\u001b[38;5;124m'\u001b[39m\u001b[38;5;124m.\u001b[39m\u001b[38;5;124m'\u001b[39m)\n\u001b[0;32m---> 26\u001b[0m     n \u001b[38;5;241m=\u001b[39m \u001b[38;5;28;43mint\u001b[39;49m\u001b[43m(\u001b[49m\u001b[43mdims\u001b[49m\u001b[43m[\u001b[49m\u001b[38;5;241;43m0\u001b[39;49m\u001b[43m]\u001b[49m\u001b[43m)\u001b[49m  \u001b[38;5;66;03m# Number of rows\u001b[39;00m\n\u001b[1;32m     27\u001b[0m     m \u001b[38;5;241m=\u001b[39m \u001b[38;5;28mint\u001b[39m(dims[\u001b[38;5;241m1\u001b[39m])  \u001b[38;5;66;03m# Number of columns\u001b[39;00m\n\u001b[1;32m     28\u001b[0m     i \u001b[38;5;241m+\u001b[39m\u001b[38;5;241m=\u001b[39m \u001b[38;5;241m1\u001b[39m\n",
      "\u001b[0;31mValueError\u001b[0m: invalid literal for int() with base 10: 'n'"
     ]
    }
   ],
   "source": [
    "# Read Data\n",
    "T = read_temperature_data()\n",
    "\n",
    "T"
   ]
  },
  {
   "cell_type": "code",
   "execution_count": null,
   "metadata": {},
   "outputs": [],
   "source": []
  },
  {
   "cell_type": "code",
   "execution_count": null,
   "metadata": {},
   "outputs": [],
   "source": []
  },
  {
   "cell_type": "code",
   "execution_count": null,
   "metadata": {},
   "outputs": [],
   "source": []
  }
 ],
 "metadata": {
  "kernelspec": {
   "display_name": "Python 3",
   "language": "python",
   "name": "python3"
  },
  "language_info": {
   "codemirror_mode": {
    "name": "ipython",
    "version": 3
   },
   "file_extension": ".py",
   "mimetype": "text/x-python",
   "name": "python",
   "nbconvert_exporter": "python",
   "pygments_lexer": "ipython3",
   "version": "3.10.12"
  }
 },
 "nbformat": 4,
 "nbformat_minor": 2
}
