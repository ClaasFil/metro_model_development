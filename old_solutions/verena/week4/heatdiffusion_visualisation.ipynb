{
 "cells": [
  {
   "cell_type": "code",
   "execution_count": 6,
   "id": "272b16b5",
   "metadata": {},
   "outputs": [
    {
     "name": "stdout",
     "output_type": "stream",
     "text": [
      "(397, 4096)\n"
     ]
    }
   ],
   "source": [
    "import numpy as np\n",
    "import matplotlib.pyplot as plt\n",
    "\n",
    "# Load temperature data from CSV files\n",
    "temperature_data = []\n",
    "for i in range(1, 50):\n",
    "    filename = f\"rand_a01_step   {i}.csv\"\n",
    "    data = np.loadtxt(filename, delimiter=',')\n",
    "    data = data.reshape((64, 64))\n",
    "    temperature_data.append(data)\n",
    "    fig, ax = plt.subplots()\n",
    "    im = ax.imshow(data, cmap='hot', animated=True)\n",
    "    plt.savefig(f\"rand_a01_step{i}.png\")"
   ]
  }
 ],
 "metadata": {
  "kernelspec": {
   "display_name": "Python 3 (ipykernel)",
   "language": "python",
   "name": "python3"
  },
  "language_info": {
   "codemirror_mode": {
    "name": "ipython",
    "version": 3
   },
   "file_extension": ".py",
   "mimetype": "text/x-python",
   "name": "python",
   "nbconvert_exporter": "python",
   "pygments_lexer": "ipython3",
   "version": "3.10.5"
  }
 },
 "nbformat": 4,
 "nbformat_minor": 5
}
