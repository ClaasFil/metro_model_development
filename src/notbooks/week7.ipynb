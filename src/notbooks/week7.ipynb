version https://git-lfs.github.com/spec/v1
oid sha256:63ae415d8662a0533433fc2c20e43f4fe067f2a170df088a63d59dd37beacc56
size 33820179
